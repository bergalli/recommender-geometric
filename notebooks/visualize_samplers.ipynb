{
 "cells": [
  {
   "cell_type": "code",
   "execution_count": 72,
   "id": "acc9cf94-415b-4dff-9a53-f115acc9dcb7",
   "metadata": {},
   "outputs": [],
   "source": [
    "import pickle\n",
    "\n",
    "import matplotlib.pyplot as plt\n",
    "import networkx as nx\n",
    "import torch\n",
    "from torch_geometric.loader import DataLoader, NeighborLoader\n",
    "from torch_geometric.transforms import ToUndirected\n",
    "from torch_geometric.utils.convert import to_networkx"
   ]
  },
  {
   "cell_type": "code",
   "execution_count": 29,
   "id": "16bfd1e0-9fd3-41a3-9ea4-e287f60844f7",
   "metadata": {},
   "outputs": [],
   "source": [
    "def visualize_graph(data):\n",
    "    nx_data = to_networkx(data.to_homogeneous())\n",
    "    nx.draw(nx_data)\n",
    "    plt.show()"
   ]
  },
  {
   "cell_type": "markdown",
   "id": "43a7c079-350e-43a9-b668-debcebbf9c04",
   "metadata": {},
   "source": [
    "___"
   ]
  },
  {
   "cell_type": "code",
   "execution_count": 70,
   "id": "d11642d1-1d4c-47e7-8d4e-a8c6d34945c3",
   "metadata": {},
   "outputs": [
    {
     "data": {
      "text/plain": [
       "HeteroData(\n",
       "  \u001b[1mmovie\u001b[0m={ x=[27321, 1129] },\n",
       "  \u001b[1muser\u001b[0m={ x=[13322, 13322] },\n",
       "  \u001b[1m(user, rates, movie)\u001b[0m={\n",
       "    edge_index=[2, 2000000],\n",
       "    edge_label=[2000000]\n",
       "  }\n",
       ")"
      ]
     },
     "execution_count": 70,
     "metadata": {},
     "output_type": "execute_result"
    }
   ],
   "source": [
    "pyg_data = pickle.load(open(\"../data/04_feature/users_rating_movies_network.pickle\", \"rb\"))\n",
    "\n",
    "pyg_data"
   ]
  },
  {
   "cell_type": "code",
   "execution_count": 73,
   "id": "991274e0-65b7-4e05-a849-4a714eb8a3f3",
   "metadata": {},
   "outputs": [],
   "source": [
    "pyg_data = ToUndirected()(pyg_data)\n",
    "del pyg_data[\"movie\", \"rev_rates\", \"user\"].edge_label  # Remove \"reverse\" label."
   ]
  },
  {
   "cell_type": "raw",
   "id": "05e97dbe-fbb8-4baa-8914-22262b81ba47",
   "metadata": {},
   "source": [
    "NeighborLoader?"
   ]
  },
  {
   "cell_type": "code",
   "execution_count": 174,
   "id": "f0b874d3-f191-4499-a254-415b70a9f16f",
   "metadata": {},
   "outputs": [],
   "source": [
    "unique_user_node_id = torch.tensor(list(set(pyg_data[(\"user\", \"rates\", \"movie\")].edge_index[0, :].tolist())))\n",
    "unique_movie_node_id = torch.tensor(list(set(pyg_data[(\"user\", \"rates\", \"movie\")].edge_index[1, :].tolist())))\n",
    "# , (\"movie\", unique_movie_node_id)\n",
    "m = NeighborLoader(\n",
    "    pyg_data,\n",
    "    batch_size=100,\n",
    "    shuffle=False,\n",
    "    num_neighbors={\n",
    "        (\"user\", \"rates\", \"movie\"): [30, 1],\n",
    "        (\"movie\", \"rev_rates\", \"user\"): [1, 30],\n",
    "    },  # {key: [1] * 2 for key in pyg_data.edge_types},\n",
    "    input_nodes=(\"user\", unique_user_node_id)\n",
    ")"
   ]
  },
  {
   "cell_type": "code",
   "execution_count": 175,
   "id": "f23a5f3d-4684-4556-8855-bbcda0cb227a",
   "metadata": {},
   "outputs": [],
   "source": [
    "m = iter(m)"
   ]
  },
  {
   "cell_type": "code",
   "execution_count": 178,
   "id": "4553876c-359e-4391-8d9f-85c227066096",
   "metadata": {},
   "outputs": [
    {
     "name": "stdout",
     "output_type": "stream",
     "text": [
      "HeteroData(\n",
      "  \u001b[1mmovie\u001b[0m={ x=[93, 1129] },\n",
      "  \u001b[1muser\u001b[0m={\n",
      "    x=[193, 13322],\n",
      "    input_id=[100],\n",
      "    batch_size=100\n",
      "  },\n",
      "  \u001b[1m(user, rates, movie)\u001b[0m={\n",
      "    edge_index=[2, 93],\n",
      "    edge_label=[93]\n",
      "  },\n",
      "  \u001b[1m(movie, rev_rates, user)\u001b[0m={ edge_index=[2, 100] }\n",
      ")\n",
      "tensor([200, 201, 202, 203, 204, 205, 206, 207, 208, 209, 210, 211, 212, 213,\n",
      "        214, 215, 216, 217, 218, 219, 220, 221, 222, 223, 224, 225, 226, 227,\n",
      "        228, 229, 230, 231, 232, 233, 234, 235, 236, 237, 238, 239, 240, 241,\n",
      "        242, 243, 244, 245, 246, 247, 248, 249, 250, 251, 252, 253, 254, 255,\n",
      "        256, 257, 258, 259, 260, 261, 262, 263, 264, 265, 266, 267, 268, 269,\n",
      "        270, 271, 272, 273, 274, 275, 276, 277, 278, 279, 280, 281, 282, 283,\n",
      "        284, 285, 286, 287, 288, 289, 290, 291, 292, 293, 294, 295, 296, 297,\n",
      "        298, 299])\n",
      "tensor([[100, 101, 102, 103, 104, 105, 106, 107, 108, 109, 110, 111, 112, 113,\n",
      "         114, 115, 116, 117, 118, 119, 120, 121, 122, 123, 124, 125, 126, 127,\n",
      "         128, 129, 130, 131, 132, 133, 134, 135, 136, 137, 138, 139, 140, 141,\n",
      "         142, 143, 144, 145, 146, 147, 148, 149, 150, 151, 152, 153, 154, 155,\n",
      "         156, 157, 158, 159, 160, 161, 162, 163, 164, 165, 166, 167, 168, 169,\n",
      "         170, 171, 172, 173, 174, 175, 176, 177, 178, 179, 180, 181, 182, 183,\n",
      "         184, 185, 186, 187, 188, 189, 190, 191, 192],\n",
      "        [  0,   1,   2,   3,   4,   5,   6,   7,   8,   9,  10,  11,  12,  13,\n",
      "          14,  15,  16,  17,  18,  19,  20,  21,  22,  23,  24,  25,  26,  27,\n",
      "          28,  29,  30,  31,  32,  33,  34,  35,  36,  37,  38,  39,  40,  41,\n",
      "          42,  43,  44,  45,  46,  47,  48,  49,  50,  51,  52,  53,  54,  55,\n",
      "          56,  57,  58,  59,  60,  61,  62,  63,  64,  65,  66,  67,  68,  69,\n",
      "          70,  71,  72,  73,  74,  75,  76,  77,  78,  79,  80,  81,  82,  83,\n",
      "          84,  85,  86,  87,  88,  89,  90,  91,  92]])\n"
     ]
    }
   ],
   "source": [
    "nexteu = next(m)\n",
    "print(nexteu)\n",
    "print(nexteu[\"user\"].input_id)\n",
    "print(nexteu[(\"user\", \"rates\", \"movie\")].edge_index)"
   ]
  },
  {
   "cell_type": "code",
   "execution_count": 156,
   "id": "ca5d0355-831a-43b9-a411-8e524b7cc6f0",
   "metadata": {},
   "outputs": [
    {
     "name": "stdout",
     "output_type": "stream",
     "text": [
      "HeteroData(\n",
      "  \u001b[1mmovie\u001b[0m={ x=[88, 1129] },\n",
      "  \u001b[1muser\u001b[0m={\n",
      "    x=[183, 13322],\n",
      "    input_id=[100],\n",
      "    batch_size=100\n",
      "  },\n",
      "  \u001b[1m(user, rates, movie)\u001b[0m={\n",
      "    edge_index=[2, 88],\n",
      "    edge_label=[88]\n",
      "  },\n",
      "  \u001b[1m(movie, rev_rates, user)\u001b[0m={ edge_index=[2, 100] }\n",
      ")\n",
      "tensor([ 0,  1,  2,  3,  4,  5,  6,  7,  8,  9, 10, 11, 12, 13, 14, 15, 16, 17,\n",
      "        18, 19, 20, 21, 22, 23, 24, 25, 26, 27, 28, 29, 30, 31, 32, 33, 34, 35,\n",
      "        36, 37, 38, 39, 40, 41, 42, 43, 44, 45, 46, 47, 48, 49, 50, 51, 52, 53,\n",
      "        54, 55, 56, 57, 58, 59, 60, 61, 62, 63, 64, 65, 66, 67, 68, 69, 70, 71,\n",
      "        72, 73, 74, 75, 76, 77, 78, 79, 80, 81, 82, 83, 84, 85, 86, 87, 88, 89,\n",
      "        90, 91, 92, 93, 94, 95, 96, 97, 98, 99])\n"
     ]
    }
   ],
   "source": [
    "nexteu = next(m)\n",
    "print(nexteu)\n",
    "print(nexteu[\"user\"].input_id)"
   ]
  },
  {
   "cell_type": "code",
   "execution_count": null,
   "id": "b83abd63-111e-4156-a95a-b25887b6ee77",
   "metadata": {},
   "outputs": [],
   "source": []
  }
 ],
 "metadata": {
  "kernelspec": {
   "display_name": "recommender-geometric",
   "language": "python",
   "name": "recommender-geometric"
  },
  "language_info": {
   "codemirror_mode": {
    "name": "ipython",
    "version": 3
   },
   "file_extension": ".py",
   "mimetype": "text/x-python",
   "name": "python",
   "nbconvert_exporter": "python",
   "pygments_lexer": "ipython3",
   "version": "3.9.13"
  }
 },
 "nbformat": 4,
 "nbformat_minor": 5
}
